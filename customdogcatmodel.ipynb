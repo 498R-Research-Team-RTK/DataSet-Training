{
 "cells": [
  {
   "cell_type": "code",
   "execution_count": 1,
   "metadata": {
    "ExecuteTime": {
     "end_time": "2020-11-25T06:16:00.786485Z",
     "start_time": "2020-11-25T06:15:56.635940Z"
    }
   },
   "outputs": [],
   "source": [
    "import tensorflow \n"
   ]
  },
  {
   "cell_type": "code",
   "execution_count": 2,
   "metadata": {
    "ExecuteTime": {
     "end_time": "2020-11-25T06:16:01.349472Z",
     "start_time": "2020-11-25T06:16:00.791174Z"
    }
   },
   "outputs": [],
   "source": [
    "from tensorflow.keras.models import Sequential\n",
    "from tensorflow.keras.layers import Dense,MaxPooling2D,Conv2D,Dropout,BatchNormalization,Flatten,Activation\n",
    "from tensorflow.keras.preprocessing.image import ImageDataGenerator\n",
    "\n",
    "import matplotlib.pyplot as plt\n",
    "import glob\n",
    "import shutil\n",
    "import random\n",
    "import os \n"
   ]
  },
  {
   "cell_type": "code",
   "execution_count": 3,
   "metadata": {
    "ExecuteTime": {
     "end_time": "2020-11-25T06:16:01.356046Z",
     "start_time": "2020-11-25T06:16:01.352056Z"
    }
   },
   "outputs": [],
   "source": [
    "train_path = 'D/train'\n",
    "valid_path = 'D/test'"
   ]
  },
  {
   "cell_type": "code",
   "execution_count": 4,
   "metadata": {
    "ExecuteTime": {
     "end_time": "2020-11-25T06:16:03.444843Z",
     "start_time": "2020-11-25T06:16:01.359038Z"
    }
   },
   "outputs": [
    {
     "name": "stdout",
     "output_type": "stream",
     "text": [
      "Found 18968 images belonging to 2 classes.\n",
      "Found 6016 images belonging to 2 classes.\n"
     ]
    }
   ],
   "source": [
    "imggen_train=ImageDataGenerator(rescale=1./255,horizontal_flip=.2,zoom_range=.5,rotation_range=0.4)\n",
    "imggen=ImageDataGenerator(rescale=1./255)\n",
    "train_data=imggen.flow_from_directory(directory=train_path,target_size=(100,100),class_mode='categorical'\n",
    "                                      ,batch_size=200)\n",
    "val_data=imggen.flow_from_directory(directory=valid_path,target_size=(100,100),class_mode='categorical',\n",
    "                                    batch_size=200)\n"
   ]
  },
  {
   "cell_type": "code",
   "execution_count": 5,
   "metadata": {
    "ExecuteTime": {
     "end_time": "2020-11-25T06:16:05.125938Z",
     "start_time": "2020-11-25T06:16:03.446837Z"
    }
   },
   "outputs": [],
   "source": [
    "model = Sequential()\n",
    "model.add(Conv2D(32, (3, 3), activation='relu', padding='same', input_shape=(100,100, 3)))\n",
    "model.add(MaxPooling2D((2, 2)))\n",
    "\n",
    "model.add(Conv2D(64, (3, 3), activation='relu'))\n",
    "model.add(MaxPooling2D((2, 2)))\n",
    "\n",
    "model.add(Conv2D(128, (3, 3), activation='relu'))\n",
    "model.add(MaxPooling2D((2, 2)))\n",
    "model.add(Conv2D(256, (3, 3), activation='relu'))\n",
    "model.add(MaxPooling2D((2, 2)))\n",
    "\n",
    "model.add(Conv2D(512, (3, 3), activation='relu'))\n",
    "model.add(MaxPooling2D((2, 2)))\n",
    "\n",
    "model.add(Flatten())\n",
    "model.add(Dense(512, activation='relu'))\n",
    "model.add(Dense(256, activation='relu'))\n",
    "model.add(Dropout(.3))\n",
    "model.add(Dense(128, activation='relu'))\n",
    "model.add(Dropout(.3))\n",
    "model.add(Dense(2, activation='sigmoid'))"
   ]
  },
  {
   "cell_type": "code",
   "execution_count": 6,
   "metadata": {
    "ExecuteTime": {
     "end_time": "2020-11-25T06:16:05.144867Z",
     "start_time": "2020-11-25T06:16:05.127873Z"
    }
   },
   "outputs": [
    {
     "name": "stdout",
     "output_type": "stream",
     "text": [
      "Model: \"sequential\"\n",
      "_________________________________________________________________\n",
      "Layer (type)                 Output Shape              Param #   \n",
      "=================================================================\n",
      "conv2d (Conv2D)              (None, 100, 100, 32)      896       \n",
      "_________________________________________________________________\n",
      "max_pooling2d (MaxPooling2D) (None, 50, 50, 32)        0         \n",
      "_________________________________________________________________\n",
      "conv2d_1 (Conv2D)            (None, 48, 48, 64)        18496     \n",
      "_________________________________________________________________\n",
      "max_pooling2d_1 (MaxPooling2 (None, 24, 24, 64)        0         \n",
      "_________________________________________________________________\n",
      "conv2d_2 (Conv2D)            (None, 22, 22, 128)       73856     \n",
      "_________________________________________________________________\n",
      "max_pooling2d_2 (MaxPooling2 (None, 11, 11, 128)       0         \n",
      "_________________________________________________________________\n",
      "conv2d_3 (Conv2D)            (None, 9, 9, 256)         295168    \n",
      "_________________________________________________________________\n",
      "max_pooling2d_3 (MaxPooling2 (None, 4, 4, 256)         0         \n",
      "_________________________________________________________________\n",
      "conv2d_4 (Conv2D)            (None, 2, 2, 512)         1180160   \n",
      "_________________________________________________________________\n",
      "max_pooling2d_4 (MaxPooling2 (None, 1, 1, 512)         0         \n",
      "_________________________________________________________________\n",
      "flatten (Flatten)            (None, 512)               0         \n",
      "_________________________________________________________________\n",
      "dense (Dense)                (None, 512)               262656    \n",
      "_________________________________________________________________\n",
      "dense_1 (Dense)              (None, 256)               131328    \n",
      "_________________________________________________________________\n",
      "dropout (Dropout)            (None, 256)               0         \n",
      "_________________________________________________________________\n",
      "dense_2 (Dense)              (None, 128)               32896     \n",
      "_________________________________________________________________\n",
      "dropout_1 (Dropout)          (None, 128)               0         \n",
      "_________________________________________________________________\n",
      "dense_3 (Dense)              (None, 2)                 258       \n",
      "=================================================================\n",
      "Total params: 1,995,714\n",
      "Trainable params: 1,995,714\n",
      "Non-trainable params: 0\n",
      "_________________________________________________________________\n"
     ]
    }
   ],
   "source": [
    "model.summary()"
   ]
  },
  {
   "cell_type": "code",
   "execution_count": 7,
   "metadata": {
    "ExecuteTime": {
     "end_time": "2020-11-25T06:16:05.176750Z",
     "start_time": "2020-11-25T06:16:05.149815Z"
    }
   },
   "outputs": [],
   "source": [
    "model.compile(optimizer='adam',loss='categorical_crossentropy',metrics=['accuracy'])"
   ]
  },
  {
   "cell_type": "code",
   "execution_count": 8,
   "metadata": {
    "ExecuteTime": {
     "end_time": "2020-11-25T06:16:05.187713Z",
     "start_time": "2020-11-25T06:16:05.179736Z"
    }
   },
   "outputs": [
    {
     "data": {
      "text/plain": [
       "95"
      ]
     },
     "execution_count": 8,
     "metadata": {},
     "output_type": "execute_result"
    }
   ],
   "source": [
    "len(train_data)"
   ]
  },
  {
   "cell_type": "code",
   "execution_count": 9,
   "metadata": {
    "ExecuteTime": {
     "end_time": "2020-11-25T08:11:39.114727Z",
     "start_time": "2020-11-25T06:16:05.192701Z"
    }
   },
   "outputs": [
    {
     "name": "stdout",
     "output_type": "stream",
     "text": [
      "Epoch 1/20\n",
      "95/95 [==============================] - 358s 4s/step - loss: 0.6749 - accuracy: 0.5858 - val_loss: 0.6712 - val_accuracy: 0.5554\n",
      "Epoch 2/20\n",
      "95/95 [==============================] - 330s 3s/step - loss: 0.6529 - accuracy: 0.6225 - val_loss: 0.6615 - val_accuracy: 0.5994\n",
      "Epoch 3/20\n",
      "95/95 [==============================] - 330s 3s/step - loss: 0.6395 - accuracy: 0.6436 - val_loss: 0.6247 - val_accuracy: 0.6644\n",
      "Epoch 4/20\n",
      "95/95 [==============================] - 326s 3s/step - loss: 0.5871 - accuracy: 0.6980 - val_loss: 0.5686 - val_accuracy: 0.6965\n",
      "Epoch 5/20\n",
      "95/95 [==============================] - 331s 3s/step - loss: 0.5053 - accuracy: 0.7513 - val_loss: 0.5327 - val_accuracy: 0.7252\n",
      "Epoch 6/20\n",
      "95/95 [==============================] - 328s 3s/step - loss: 0.4556 - accuracy: 0.7796 - val_loss: 0.6012 - val_accuracy: 0.6902\n",
      "Epoch 7/20\n",
      "95/95 [==============================] - 331s 3s/step - loss: 0.4176 - accuracy: 0.8042 - val_loss: 0.4600 - val_accuracy: 0.7768\n",
      "Epoch 8/20\n",
      "95/95 [==============================] - 329s 3s/step - loss: 0.3835 - accuracy: 0.8275 - val_loss: 0.4533 - val_accuracy: 0.7914\n",
      "Epoch 9/20\n",
      "95/95 [==============================] - 380s 4s/step - loss: 0.3542 - accuracy: 0.8443 - val_loss: 0.4752 - val_accuracy: 0.7621\n",
      "Epoch 10/20\n",
      "95/95 [==============================] - 364s 4s/step - loss: 0.3174 - accuracy: 0.8611 - val_loss: 0.4266 - val_accuracy: 0.8130\n",
      "Epoch 11/20\n",
      "95/95 [==============================] - 350s 4s/step - loss: 0.2903 - accuracy: 0.8769 - val_loss: 0.4512 - val_accuracy: 0.7970\n",
      "Epoch 12/20\n",
      "95/95 [==============================] - 334s 4s/step - loss: 0.2480 - accuracy: 0.8962 - val_loss: 0.4768 - val_accuracy: 0.8135\n",
      "Epoch 13/20\n",
      "95/95 [==============================] - 383s 4s/step - loss: 0.2179 - accuracy: 0.9119 - val_loss: 0.4954 - val_accuracy: 0.7955\n",
      "Epoch 14/20\n",
      "95/95 [==============================] - 357s 4s/step - loss: 0.1909 - accuracy: 0.9238 - val_loss: 0.5197 - val_accuracy: 0.8182\n",
      "Epoch 15/20\n",
      "95/95 [==============================] - 358s 4s/step - loss: 0.1727 - accuracy: 0.9310 - val_loss: 0.6602 - val_accuracy: 0.8105\n",
      "Epoch 16/20\n",
      "95/95 [==============================] - 328s 3s/step - loss: 0.1398 - accuracy: 0.9443 - val_loss: 0.6593 - val_accuracy: 0.8055\n",
      "Epoch 17/20\n",
      "95/95 [==============================] - 330s 3s/step - loss: 0.1236 - accuracy: 0.9523 - val_loss: 0.6892 - val_accuracy: 0.7984\n",
      "Epoch 18/20\n",
      "95/95 [==============================] - 332s 3s/step - loss: 0.1085 - accuracy: 0.9578 - val_loss: 0.7637 - val_accuracy: 0.8138\n",
      "Epoch 19/20\n",
      "95/95 [==============================] - 330s 3s/step - loss: 0.0777 - accuracy: 0.9705 - val_loss: 0.8902 - val_accuracy: 0.8113\n",
      "Epoch 20/20\n",
      "95/95 [==============================] - 351s 4s/step - loss: 0.0758 - accuracy: 0.9705 - val_loss: 0.9301 - val_accuracy: 0.8032\n"
     ]
    },
    {
     "data": {
      "text/plain": [
       "<tensorflow.python.keras.callbacks.History at 0x20bc0cc1760>"
      ]
     },
     "execution_count": 9,
     "metadata": {},
     "output_type": "execute_result"
    }
   ],
   "source": [
    "model.fit(x=train_data,validation_data=val_data,epochs=20,steps_per_epoch=95,validation_steps=31)"
   ]
  },
  {
   "cell_type": "code",
   "execution_count": 10,
   "metadata": {
    "ExecuteTime": {
     "end_time": "2020-11-25T08:11:39.277328Z",
     "start_time": "2020-11-25T08:11:39.118715Z"
    }
   },
   "outputs": [],
   "source": [
    "model.save('face.h5')"
   ]
  },
  {
   "cell_type": "code",
   "execution_count": null,
   "metadata": {},
   "outputs": [],
   "source": []
  }
 ],
 "metadata": {
  "kernelspec": {
   "display_name": "Python 3",
   "language": "python",
   "name": "python3"
  },
  "language_info": {
   "codemirror_mode": {
    "name": "ipython",
    "version": 3
   },
   "file_extension": ".py",
   "mimetype": "text/x-python",
   "name": "python",
   "nbconvert_exporter": "python",
   "pygments_lexer": "ipython3",
   "version": "3.8.3"
  },
  "toc": {
   "base_numbering": 1,
   "nav_menu": {},
   "number_sections": true,
   "sideBar": true,
   "skip_h1_title": false,
   "title_cell": "Table of Contents",
   "title_sidebar": "Contents",
   "toc_cell": false,
   "toc_position": {},
   "toc_section_display": true,
   "toc_window_display": false
  },
  "varInspector": {
   "cols": {
    "lenName": 16,
    "lenType": 16,
    "lenVar": 40
   },
   "kernels_config": {
    "python": {
     "delete_cmd_postfix": "",
     "delete_cmd_prefix": "del ",
     "library": "var_list.py",
     "varRefreshCmd": "print(var_dic_list())"
    },
    "r": {
     "delete_cmd_postfix": ") ",
     "delete_cmd_prefix": "rm(",
     "library": "var_list.r",
     "varRefreshCmd": "cat(var_dic_list()) "
    }
   },
   "types_to_exclude": [
    "module",
    "function",
    "builtin_function_or_method",
    "instance",
    "_Feature"
   ],
   "window_display": false
  }
 },
 "nbformat": 4,
 "nbformat_minor": 4
}
